{
 "cells": [
  {
   "cell_type": "code",
   "execution_count": 1,
   "id": "05383135-07b2-432d-8482-cdaa602798a8",
   "metadata": {},
   "outputs": [],
   "source": [
    "students = [ 'naveen','raju','khader','joseph','keerthi','sahara']"
   ]
  },
  {
   "cell_type": "code",
   "execution_count": 2,
   "id": "f76b09c5-09a3-4347-9853-876d9f7f3252",
   "metadata": {},
   "outputs": [
    {
     "name": "stdout",
     "output_type": "stream",
     "text": [
      "['naveen', 'raju', 'khader', 'joseph', 'keerthi', 'sahara']\n"
     ]
    }
   ],
   "source": [
    "print (students)"
   ]
  },
  {
   "cell_type": "code",
   "execution_count": 3,
   "id": "d65b2f61-751a-4937-bd5f-43fd16ac0da2",
   "metadata": {},
   "outputs": [
    {
     "data": {
      "text/plain": [
       "list"
      ]
     },
     "execution_count": 3,
     "metadata": {},
     "output_type": "execute_result"
    }
   ],
   "source": [
    "type (students)"
   ]
  },
  {
   "cell_type": "code",
   "execution_count": null,
   "id": "079c19ba-6f9f-4166-93a7-b7367fbfff2b",
   "metadata": {},
   "outputs": [],
   "source": [
    "note_point : stop value is always exclusive, to include the stop value we have to increment the number by +1"
   ]
  },
  {
   "cell_type": "code",
   "execution_count": null,
   "id": "a799025f-04c4-48bd-bcd7-06d4fe413998",
   "metadata": {},
   "outputs": [],
   "source": [
    "#req : i want to include naveen and raju in slice "
   ]
  },
  {
   "cell_type": "code",
   "execution_count": 7,
   "id": "39705a5f-3bd9-4933-9f3a-a3c4d48884fc",
   "metadata": {},
   "outputs": [
    {
     "name": "stdout",
     "output_type": "stream",
     "text": [
      "['naveen']\n"
     ]
    }
   ],
   "source": [
    "print(students[0:1])"
   ]
  },
  {
   "cell_type": "code",
   "execution_count": 6,
   "id": "9c2d8e4c-c6a7-400a-b03a-387538180ab6",
   "metadata": {},
   "outputs": [
    {
     "name": "stdout",
     "output_type": "stream",
     "text": [
      "['naveen', 'raju']\n"
     ]
    }
   ],
   "source": [
    "print(students[0:2])"
   ]
  },
  {
   "cell_type": "code",
   "execution_count": null,
   "id": "391f4ca2-f5ca-42cb-8d8e-0e8d8cb739d3",
   "metadata": {},
   "outputs": [],
   "source": [
    "# req : i want to include khader and joseph in the slice "
   ]
  },
  {
   "cell_type": "code",
   "execution_count": 8,
   "id": "dd27bff4-e567-4673-afb0-cb669e7fae8f",
   "metadata": {},
   "outputs": [
    {
     "name": "stdout",
     "output_type": "stream",
     "text": [
      "['khader', 'joseph']\n"
     ]
    }
   ],
   "source": [
    "print (students[2:4])"
   ]
  },
  {
   "cell_type": "raw",
   "id": "2ae09c17-1a85-41a2-9ad5-66fe216c6e34",
   "metadata": {},
   "source": [
    "print (students[4:6])"
   ]
  },
  {
   "cell_type": "code",
   "execution_count": null,
   "id": "8536d2ae-0a0e-49d9-9e3f-3fffefa734e9",
   "metadata": {},
   "outputs": [],
   "source": [
    "introduction to looping statements :"
   ]
  },
  {
   "cell_type": "code",
   "execution_count": null,
   "id": "ed6212cd-979d-4828-a40f-d8a21f239334",
   "metadata": {},
   "outputs": [],
   "source": [
    "understanding the concepts for loops :"
   ]
  },
  {
   "cell_type": "code",
   "execution_count": null,
   "id": "8446a752-c862-4cf0-937d-a2fcad4bb2cb",
   "metadata": {},
   "outputs": [],
   "source": [
    "# general syntax of for loop :"
   ]
  },
  {
   "cell_type": "code",
   "execution_count": null,
   "id": "c240bdaa-7786-4de1-832d-bae606355a6f",
   "metadata": {},
   "outputs": [],
   "source": [
    "for tempvar in mainvar:\n",
    "    print(tempvar)"
   ]
  },
  {
   "cell_type": "code",
   "execution_count": 12,
   "id": "1b6c5915-603f-4246-bd14-0bddd2077b81",
   "metadata": {},
   "outputs": [
    {
     "name": "stdout",
     "output_type": "stream",
     "text": [
      "['naveen', 'raju', 'khader', 'joseph', 'keerthi', 'sahara']\n"
     ]
    }
   ],
   "source": [
    "print (students)"
   ]
  },
  {
   "cell_type": "code",
   "execution_count": 13,
   "id": "68c25e02-4999-4407-97c4-b416e3873ba6",
   "metadata": {},
   "outputs": [
    {
     "name": "stdout",
     "output_type": "stream",
     "text": [
      "keep up the good work, Naveen\n"
     ]
    }
   ],
   "source": [
    "message = f\"keep up the good work, {students[0].title()}\"\n",
    "print(message)"
   ]
  },
  {
   "cell_type": "code",
   "execution_count": 14,
   "id": "9c6fc71c-8859-44f1-b05c-3d7e9c4a1dcd",
   "metadata": {},
   "outputs": [
    {
     "name": "stdout",
     "output_type": "stream",
     "text": [
      "keep up the good work, Raju\n"
     ]
    }
   ],
   "source": [
    "message = f\"keep up the good work, {students[1].title()}\"\n",
    "print(message)"
   ]
  },
  {
   "cell_type": "code",
   "execution_count": 15,
   "id": "815f9dcd-7b6d-4658-ae36-f71ab1acd1de",
   "metadata": {},
   "outputs": [
    {
     "name": "stdout",
     "output_type": "stream",
     "text": [
      "keep up the good work,naveen\n",
      "keep up the good work,raju\n",
      "keep up the good work,khader\n",
      "keep up the good work,joseph\n",
      "keep up the good work,keerthi\n",
      "keep up the good work,sahara\n"
     ]
    }
   ],
   "source": [
    "for x in students :\n",
    "    print (f\"keep up the good work,{x}\")"
   ]
  },
  {
   "cell_type": "code",
   "execution_count": 16,
   "id": "f4e7cc51-29fc-449d-a528-78671013485a",
   "metadata": {},
   "outputs": [
    {
     "name": "stdout",
     "output_type": "stream",
     "text": [
      "keep up the good work,naveen\n",
      "do share the github url of today for review,naveen\n",
      "keep up the good work,raju\n",
      "do share the github url of today for review,raju\n",
      "keep up the good work,khader\n",
      "do share the github url of today for review,khader\n",
      "keep up the good work,joseph\n",
      "do share the github url of today for review,joseph\n",
      "keep up the good work,keerthi\n",
      "do share the github url of today for review,keerthi\n",
      "keep up the good work,sahara\n",
      "do share the github url of today for review,sahara\n"
     ]
    }
   ],
   "source": [
    "for y in students :\n",
    "    print (f\"keep up the good work,{y}\")\n",
    "    print(f\"do share the github url of today for review,{y}\")\n",
    "    "
   ]
  },
  {
   "cell_type": "code",
   "execution_count": 19,
   "id": "3d81eff8-c10c-47a2-bcc1-88e75f371ad3",
   "metadata": {},
   "outputs": [
    {
     "name": "stdout",
     "output_type": "stream",
     "text": [
      "keep up the good work,naveen\n",
      "do share the github url of today for review,naveen\n",
      "\n",
      "keep up the good work,raju\n",
      "do share the github url of today for review,raju\n",
      "\n",
      "keep up the good work,khader\n",
      "do share the github url of today for review,khader\n",
      "\n",
      "keep up the good work,joseph\n",
      "do share the github url of today for review,joseph\n",
      "\n",
      "keep up the good work,keerthi\n",
      "do share the github url of today for review,keerthi\n",
      "\n",
      "keep up the good work,sahara\n",
      "do share the github url of today for review,sahara\n",
      "\n"
     ]
    }
   ],
   "source": [
    "for y in students :\n",
    "    print (f\"keep up the good work,{y}\")\n",
    "    print(f\"do share the github url of today for review,{y}\\n\")\n",
    "    "
   ]
  },
  {
   "cell_type": "code",
   "execution_count": null,
   "id": "ce125ee4-889a-4cb7-bb03-c40f5a397742",
   "metadata": {},
   "outputs": [],
   "source": []
  }
 ],
 "metadata": {
  "kernelspec": {
   "display_name": "Python 3 (ipykernel)",
   "language": "python",
   "name": "python3"
  },
  "language_info": {
   "codemirror_mode": {
    "name": "ipython",
    "version": 3
   },
   "file_extension": ".py",
   "mimetype": "text/x-python",
   "name": "python",
   "nbconvert_exporter": "python",
   "pygments_lexer": "ipython3",
   "version": "3.12.4"
  }
 },
 "nbformat": 4,
 "nbformat_minor": 5
}
